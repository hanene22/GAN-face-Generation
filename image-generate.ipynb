{
  "nbformat": 4,
  "nbformat_minor": 0,
  "metadata": {
    "colab": {
      "provenance": []
    },
    "kernelspec": {
      "name": "python3",
      "display_name": "Python 3"
    },
    "language_info": {
      "name": "python"
    }
  },
  "cells": [
    {
      "cell_type": "code",
      "execution_count": null,
      "metadata": {
        "id": "0mjZ_VyA5isi"
      },
      "outputs": [],
      "source": [
        "import numpy as np\n",
        "from keras.models import load_model"
      ]
    },
    {
      "cell_type": "code",
      "source": [
        "# Load the pre-trained generator model\n",
        "generator = load_model('gan_model.h5')  # Replace with your model's filename\n",
        "\n",
        "# Generate a random latent vector\n",
        "latent_dim = 100  # Adjust this based on your model's latent dimension\n",
        "random_latent_vector = np.random.normal(size=(1, latent_dim))\n",
        "\n",
        "# Generate an image using the generator\n",
        "generated_image = generator.predict(random_latent_vector)\n",
        "\n",
        "# Post-process the generated image if needed (e.g., scaling pixel values)\n",
        "generated_image = (generated_image + 1) / 2.0  # Adjust if necessary"
      ],
      "metadata": {
        "id": "1U58GKz-5ld5"
      },
      "execution_count": null,
      "outputs": []
    },
    {
      "cell_type": "code",
      "source": [],
      "metadata": {
        "id": "s8MGSRxlFEiS"
      },
      "execution_count": null,
      "outputs": []
    },
    {
      "cell_type": "code",
      "source": [
        "# Display  the generated image\n",
        "import matplotlib.pyplot as plt\n",
        "\n",
        "plt.imshow(generated_image[0])\n",
        "plt.axis('off')\n",
        "plt.show()\n"
      ],
      "metadata": {
        "id": "U4OZqHdC6N4w"
      },
      "execution_count": null,
      "outputs": []
    },
    {
      "cell_type": "code",
      "source": [
        "# You can also save the image using libraries like PIL\n",
        "from PIL import Image\n",
        "generated_image_pil = Image.fromarray((generated_image[0] * 255).astype('uint8'))\n",
        "generated_image_pil.save('generated_image.png')"
      ],
      "metadata": {
        "id": "HzDM0mE35qiY"
      },
      "execution_count": null,
      "outputs": []
    }
  ]
}